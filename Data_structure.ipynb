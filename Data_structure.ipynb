{
  "nbformat": 4,
  "nbformat_minor": 0,
  "metadata": {
    "colab": {
      "provenance": []
    },
    "kernelspec": {
      "name": "python3",
      "display_name": "Python 3"
    },
    "language_info": {
      "name": "python"
    }
  },
  "cells": [
    {
      "cell_type": "markdown",
      "source": [
        "#Data Types and Structures\n"
      ],
      "metadata": {
        "id": "r3858otp9m9k"
      }
    },
    {
      "cell_type": "markdown",
      "source": [
        "1.What are data structures, and why are they important?\n",
        "  - Data structures are specialized ways of organizing, storing, and managing data in a computer so that it can be accessed and modified efficiently. They provide a framework for handling data in a manner that makes operations like searching, inserting, deleting, and updating more efficient.\n",
        "  It is important because\n",
        "  a)data structures optimize operations based on how data is accessed. For example, searching for an item in a sorted array is faster than searching in an unsorted one, and a hash table allows quick access to data based on keys.\n",
        "  b)The right data structure reduces the time complexity of common operations, which is crucial for performance, especially in large-scale systems."
      ],
      "metadata": {
        "id": "i0vklukq-G8N"
      }
    },
    {
      "cell_type": "markdown",
      "source": [
        "2.Explain the difference between mutable and immutable data types with examples?\n",
        "  - The main difference between mutable and immutable data types lies in whether or not their values can be changed after they are created.\n",
        "  1. Mutable Data Types:\n",
        "  \n",
        "     Definition: Mutable data types can be changed or modified after they are created. This means the object itself can be altered without creating a new object.\n",
        "\n",
        "     Key Property: You can update, add, or remove elements without creating a new instance of the object.\n",
        "  2. Immutable Data Types:\n",
        "\n",
        "    Definition: Immutable data types cannot be changed after they are created. Once an object of an immutable type is created, its value cannot be altered, and any operation that attempts to modify it will result in the creation of a new object.\n",
        "\n",
        "     Key Property: Once an immutable object is created, it cannot be changed in place.\n",
        "     Examples of Mutable Data Types: Lists,Dictionaries,Sets.\n",
        "\n",
        "    Examples of Immutable Data Types: Tuples,Strings,Frozensets."
      ],
      "metadata": {
        "id": "TeNRRieQ-2BP"
      }
    },
    {
      "cell_type": "markdown",
      "source": [
        "3.What are the main differences between lists and tuples in Python?\n",
        "   - The main differences between lists and tuples in Python are based on their mutability, usage, and performance characteristics.\n",
        "\n",
        "    Lists:-\n",
        "\n",
        "    a) Mutability:-\tMutable (can change elements)\n",
        "\n",
        "    b) Syntax:-\t[ ]\n",
        "\n",
        "    c) Performance is\tslightly slower due to dynamic nature\n",
        "\n",
        "    d) Many Methods like append( ), remove( )\n",
        "\n",
        "    e)  Memory Usage:-\tHigher memory consumption\n",
        "\n",
        "    Tuples:-\n",
        "\n",
        "    a) Mutability:- Immutable (cannot change elements)\n",
        "\n",
        "    b) Syntax:- ( )\n",
        "\n",
        "    c) Performance is faster due to fixed size and immutability\n",
        "\n",
        "    d) Fewer methods like count() and index()\n",
        "\n",
        "    e)  Memory Usage:-  Memory Usage\n",
        "\n",
        "\n"
      ],
      "metadata": {
        "id": "H52_ugIWCZa9"
      }
    },
    {
      "cell_type": "markdown",
      "source": [
        "4.Describe how dictionaries store data\n",
        "  - Dictionaries in Python store data using a hash table, where each element is a key-value pair. The key is a unique identifier that is hashed to produce a fixed-size hash value, which determines the location in memory where the corresponding value is stored. This allows for fast data retrieval, as the key's hash value enables direct access to its associated value in constant time, on average. Keys must be immutable and unique, while values can be of any type. When multiple keys hash to the same location, Python uses collision resolution techniques like open addressing or chaining to maintain efficiency. The dictionary's design allows for quick lookups, insertions, and deletions, making it an essential data structure for associative arrays or mappings in programming."
      ],
      "metadata": {
        "id": "PwZiCoF9FgNN"
      }
    },
    {
      "cell_type": "markdown",
      "source": [
        "5.Why might you use a set instead of a list in Python\n",
        "  - You might use a set instead of a list in Python when you need to store a collection of unique elements and are not concerned with maintaining the order of the items. Sets automatically enforce uniqueness, meaning they prevent duplicates, which makes them ideal for tasks like eliminating duplicates from a collection or performing set operations such as union, intersection, and difference. Additionally, sets provide faster membership testing (O(1) on average) compared to lists (which have O(n) time complexity), making them more efficient for checking if an element exists in a collection. However, if you need to maintain order or require indexing, a list would be more appropriate."
      ],
      "metadata": {
        "id": "o5KG2Uw0F39u"
      }
    },
    {
      "cell_type": "markdown",
      "source": [
        "6. What is a string in Python, and how is it different from a list?\n",
        "   - In Python, a string is a sequence of characters used to represent textual data, enclosed in either single or double quotes (e.g., `'Hello'` or `\"World\"`). Strings are immutable, meaning that once a string is created, its content cannot be changed. In contrast, a list is a collection of ordered elements that can store multiple data types, such as numbers, strings, or other lists. Lists are mutable, allowing elements to be added, removed, or modified after creation. While both strings and lists are sequences, strings are specifically designed for handling text and cannot be altered directly, whereas lists are more flexible and can store various types of data and be modified as needed."
      ],
      "metadata": {
        "id": "Fy_aKe1aGYZT"
      }
    },
    {
      "cell_type": "markdown",
      "source": [
        "7.How do tuples ensure data integrity in Python?\n",
        "  - Tuples in Python ensure data integrity by being immutable, meaning once they are created, their contents cannot be altered. This immutability prevents accidental changes to the data, making tuples a reliable choice when you need to safeguard the integrity of a collection of values. For example, when passing a tuple to a function, you can be certain that the tuple's elements will not be modified within the function, reducing the risk of unintended side effects. This feature makes tuples particularly useful for storing constant data, like coordinates, configuration settings, or other fixed collections of values where preserving the original data is critical."
      ],
      "metadata": {
        "id": "K-Snm5dLJBdV"
      }
    },
    {
      "cell_type": "markdown",
      "source": [
        " 8. What is a hash table, and how does it relate to dictionaries in Python?\n",
        "    - A hash table is a data structure that stores data in an associative manner, using a hash function to compute an index (or hash value) where each element is stored. This allows for efficient data retrieval, insertion, and deletion operations, typically in constant time (O(1)) on average. In Python 3, dictionaries are implemented using hash tables. Each key in a dictionary is hashed using a hash function, and the resulting hash value determines where the corresponding value is stored in memory. This enables fast lookups, as the key’s hash value directly points to its value. The use of hash tables ensures that dictionary operations like accessing, adding, or removing items are efficient and optimized."
      ],
      "metadata": {
        "id": "d8wPYKvGJWZz"
      }
    },
    {
      "cell_type": "markdown",
      "source": [
        "9. Can lists contain different data types in Python?\n",
        "   - Yes, lists in Python can contain different data types. A list is an ordered collection that can hold elements of any type, including integers, strings, floats, booleans, and even other lists or objects. This flexibility allows lists to store heterogeneous data, making them versatile for a wide range of tasks. For example, a single list can store numbers, text, and even functions, all within the same structure. This ability to mix different data types makes lists a powerful and commonly used data structure in Python."
      ],
      "metadata": {
        "id": "-PqvJZHtJuxp"
      }
    },
    {
      "cell_type": "markdown",
      "source": [
        "10. Explain why strings are immutable in Python?\n",
        "    - Strings in Python are immutable to ensure data integrity, memory efficiency, and consistency. Immutability means that once a string is created, it cannot be altered. This behavior allows Python to optimize memory usage by reusing immutable string objects, which are stored in a special area called the interned string pool, improving performance and reducing redundancy. Additionally, immutability ensures that strings are thread-safe, meaning they can't be changed unexpectedly by multiple parts of a program at once, which reduces the risk of bugs. Since strings are widely used for handling text, making them immutable guarantees predictable and consistent behavior across different parts of the code."
      ],
      "metadata": {
        "id": "rxw9ALXzKDuQ"
      }
    },
    {
      "cell_type": "markdown",
      "source": [
        "11. What advantages do dictionaries offer over lists for certain tasks?\n",
        "   - Dictionaries offer several advantages over lists for certain tasks, particularly when you need to associate unique keys with specific values and perform fast lookups. Unlike lists, which require linear searches (O(n)) to find an item, dictionaries use a hash table to allow for constant time average lookup (O(1)) by accessing data via keys. This makes dictionaries much more efficient when you need to quickly retrieve, add, or modify data based on a unique identifier. Additionally, dictionaries allow for more intuitive and meaningful data representations, such as storing user information with keys like `'name'`, `'age'`, and `'email'`, whereas lists typically require positional indexing. This makes dictionaries ideal for tasks involving associative mappings, like database records, configuration settings, or when data needs to be accessed by key rather than by position."
      ],
      "metadata": {
        "id": "L6Towj_EKaUh"
      }
    },
    {
      "cell_type": "markdown",
      "source": [
        "12. Describe a scenario where using a tuple would be preferable over a list?\n",
        "    - A scenario where using a tuple would be preferable over a list is when you need to represent a collection of values that should remain constant and immutable, such as geographic coordinates. For example, if you're working with latitude and longitude values that shouldn't change during the program's execution, you would use a tuple to ensure that the values cannot be accidentally modified. Since tuples are immutable, this guarantees that the data integrity is preserved, which is important for cases where consistency is crucial, such as when performing calculations based on fixed data or passing data between functions without the risk of unintended changes. Using a tuple also provides slight performance benefits, as Python can optimize immutable structures more efficiently than mutable ones."
      ],
      "metadata": {
        "id": "0zLOlPDiKwRD"
      }
    },
    {
      "cell_type": "markdown",
      "source": [
        "13. How do sets handle duplicate values in Python?\n",
        "    - In Python, sets handle duplicate values by automatically eliminating them. A set is a collection that only stores unique elements, and when you attempt to add a duplicate value to a set, it simply ignores the new entry and retains only the first occurrence. This ensures that a set contains no repeated values, which is useful for tasks such as removing duplicates from a collection or performing set operations like union, intersection, and difference where uniqueness is required. Therefore, sets provide an efficient way to manage data where duplicate entries are not desired."
      ],
      "metadata": {
        "id": "JbVWc61bLMkD"
      }
    },
    {
      "cell_type": "code",
      "source": [],
      "metadata": {
        "id": "ZN8Ybthh-AIi"
      },
      "execution_count": 1,
      "outputs": []
    },
    {
      "cell_type": "markdown",
      "source": [
        "14. How does the “in” keyword work differently for lists and dictionaries?\n",
        "   - The **\"in\"** keyword works differently for **lists** and **dictionaries** in Python because it checks for membership in different ways. When used with a **list**, the \"in\" keyword checks whether an **element** exists in the list, iterating through each item to see if a match is found. This results in a linear search, which has a time complexity of O(n). For example, `3 in [1, 2, 3, 4]` checks if the value `3` is in the list. In contrast, when used with a **dictionary**, the \"in\" keyword checks whether a **key** exists in the dictionary, not the value. This lookup is highly efficient, typically O(1), because dictionaries are implemented using a hash table, which allows for constant time access to keys. For example, `'name' in {'name': 'Alice', 'age': 25}` checks if the key `'name'` is present in the dictionary.\n",
        "\n"
      ],
      "metadata": {
        "id": "_SjIuPhBLk5Q"
      }
    },
    {
      "cell_type": "markdown",
      "source": [
        "15. Can you modify the elements of a tuple? Explain why or why not\n",
        "    - No, you cannot modify the elements of a tuple in Python because **tuples are immutable**. Once a tuple is created, its contents cannot be changed, which means you cannot add, remove, or modify the elements within a tuple. This immutability ensures data integrity, as the values in a tuple are protected from accidental modification. It also allows Python to optimize memory usage and performance by storing tuples more efficiently. However, if a tuple contains mutable elements, like lists, those individual elements can still be modified, but the structure of the tuple itself (i.e., the sequence of elements) cannot be altered."
      ],
      "metadata": {
        "id": "LX3o59OxL9U0"
      }
    },
    {
      "cell_type": "markdown",
      "source": [
        "16. What is a nested dictionary, and give an example of its use case?\n",
        "   - A nested dictionary in Python is a dictionary where the values themselves are dictionaries, allowing for the creation of multi-level data structures. This is useful when you need to represent hierarchical or complex data that can be logically broken down into sub-categories or groups. For example, a nested dictionary can be used to store information about multiple students, where each student’s data (like name, age, and grades) is stored in a dictionary, and all these student dictionaries are stored in a larger dictionary with the student's ID as the key."
      ],
      "metadata": {
        "id": "2QMLI2HJMJCy"
      }
    },
    {
      "cell_type": "markdown",
      "source": [
        "17.  Describe the time complexity of accessing elements in a dictionary\n",
        "  -  The time complexity of accessing elements in a Python **dictionary** is **O(1)** on average, meaning that it takes constant time to retrieve a value given its key. This efficiency is achieved through the use of a **hash table**, where a hash function computes an index based on the key, allowing for direct access to the corresponding value without needing to search through the entire collection. However, in rare cases, when hash collisions occur (i.e., when different keys hash to the same index), the time complexity can degrade to **O(n)** in the worst case, though this is highly unlikely with a well-designed hash function and a large enough table. Overall, dictionary lookups are typically very fast, making them an efficient choice for storing and retrieving key-value pairs."
      ],
      "metadata": {
        "id": "LecLmZSWMmGP"
      }
    },
    {
      "cell_type": "markdown",
      "source": [
        "18. In what situations are lists preferred over dictionaries?\n",
        "    - **Lists** are preferred over **dictionaries** in situations where the order of elements matters, and you need to work with a simple, ordered collection of items without the need for unique keys. Lists are ideal when you need to store a sequence of elements that can be indexed by position and when the data does not require association with a specific key. They are particularly useful when you need to iterate over the data in order or perform operations like sorting, appending, or slicing. For example, if you are working with a collection of numbers or names and don't need to access them via keys, a list would be more appropriate because it provides easy access by index and maintains insertion order."
      ],
      "metadata": {
        "id": "jmxk3X_3MxCZ"
      }
    },
    {
      "cell_type": "markdown",
      "source": [
        "19. Why are dictionaries considered unordered, and how does that affect data retrieval?\n",
        "   - Dictionaries in Python are considered **unordered** because,  they did not guarantee any specific order of elements. This is due to their underlying implementation using a **hash table**, where the position of each key-value pair is determined by the hash of the key rather than insertion order. As a result, the elements in a dictionary do not maintain a predictable order. However, dictionaries preserve the insertion order, meaning they now maintain the order in which key-value pairs were added. Despite this, the order is not a primary feature of dictionaries, and data retrieval remains efficient because dictionaries allow for **constant time (O(1))** lookups using keys, regardless of the order. Therefore, while the insertion order is preserved in modern Python versions, dictionaries are still designed for fast access based on keys, and the concept of order has minimal impact on their data retrieval efficiency."
      ],
      "metadata": {
        "id": "1Po0rPCdNELQ"
      }
    },
    {
      "cell_type": "markdown",
      "source": [],
      "metadata": {
        "id": "-XeECBwNJTuV"
      }
    },
    {
      "cell_type": "markdown",
      "source": [
        "20.  Explain the difference between a list and a dictionary in terms of data retrieval.\n",
        "   - The key difference between a **list** and a **dictionary** in terms of data retrieval lies in how data is accessed and the structure of each. In a **list**, data is retrieved by its **index**, which is a positional reference to an element in the ordered collection. To access an item, you specify its position (e.g., `my_list[2]`), and the retrieval time is **O(1)** for direct access, assuming you know the index. However, if you need to find a specific item based on its value, you may need to search through the entire list, which takes **O(n)** time. On the other hand, a **dictionary** retrieves data based on **keys**, using a hash table to compute the location of the value associated with the key. This allows for **constant time (O(1))** access to the value, as long as the key is known, making dictionaries highly efficient for lookups by key. Unlike lists, dictionaries are not accessed by index, and data retrieval is based on the unique key-value mapping, making them ideal for scenarios where quick, direct access to data is needed using specific identifiers."
      ],
      "metadata": {
        "id": "GPv7dhucNYXc"
      }
    },
    {
      "cell_type": "markdown",
      "source": [
        "# Practical Questions"
      ],
      "metadata": {
        "id": "DVoLZp6vNrcj"
      }
    },
    {
      "cell_type": "code",
      "source": [
        "# 1.  Write a code to create a string with your name and print it?"
      ],
      "metadata": {
        "id": "ko3TetRXNui_"
      },
      "execution_count": null,
      "outputs": []
    },
    {
      "cell_type": "markdown",
      "source": [],
      "metadata": {
        "id": "vWqFkhJtNtPp"
      }
    },
    {
      "cell_type": "code",
      "source": [
        "# Creating a string with my name\n",
        "my_name = \"bhavesh\"\n",
        "\n",
        "# Printing the string\n",
        "print(my_name)\n"
      ],
      "metadata": {
        "colab": {
          "base_uri": "https://localhost:8080/"
        },
        "id": "4VTY-iqmNoV3",
        "outputId": "28dd5a7b-8e55-4c6c-e4ff-af520a699842"
      },
      "execution_count": 6,
      "outputs": [
        {
          "output_type": "stream",
          "name": "stdout",
          "text": [
            "bhavesh\n"
          ]
        }
      ]
    },
    {
      "cell_type": "code",
      "source": [
        "# 2.  Write a code to find the length of the string \"Hello World\"\n"
      ],
      "metadata": {
        "id": "TRsla6iJOR0i"
      },
      "execution_count": null,
      "outputs": []
    },
    {
      "cell_type": "code",
      "source": [
        "# String\n",
        "my_string = \"Hello World\"\n",
        "\n",
        "# Finding the length of the string\n",
        "length = len(my_string)\n",
        "\n",
        "# Printing the length\n",
        "print(length)\n"
      ],
      "metadata": {
        "colab": {
          "base_uri": "https://localhost:8080/"
        },
        "id": "AfBSrdUyOmez",
        "outputId": "1f8c324f-c3c7-4539-8176-55e02ebb281a"
      },
      "execution_count": 7,
      "outputs": [
        {
          "output_type": "stream",
          "name": "stdout",
          "text": [
            "11\n"
          ]
        }
      ]
    },
    {
      "cell_type": "code",
      "source": [
        "# 3. Write a code to slice the first 3 characters from the string \"Python Programming\""
      ],
      "metadata": {
        "id": "9jj0_lhpOwcx"
      },
      "execution_count": null,
      "outputs": []
    },
    {
      "cell_type": "code",
      "source": [
        "# String\n",
        "my_string = \"Python Programming\"\n",
        "\n",
        "# Slicing the first 3 characters\n",
        "sliced_string = my_string[:3]\n",
        "\n",
        "# Printing the sliced string\n",
        "print(sliced_string)\n"
      ],
      "metadata": {
        "colab": {
          "base_uri": "https://localhost:8080/"
        },
        "id": "Y-vUMXe3O2gf",
        "outputId": "5d04afca-93c6-47cb-8845-69a15e738574"
      },
      "execution_count": 8,
      "outputs": [
        {
          "output_type": "stream",
          "name": "stdout",
          "text": [
            "Pyt\n"
          ]
        }
      ]
    },
    {
      "cell_type": "code",
      "source": [
        "# 4. Write a code to convert the string \"hello\" to uppercase?\n"
      ],
      "metadata": {
        "id": "3tONs1b7O_Tf"
      },
      "execution_count": null,
      "outputs": []
    },
    {
      "cell_type": "code",
      "source": [
        "# String\n",
        "my_string = \"hello\"\n",
        "\n",
        "# Converting the string to uppercase\n",
        "uppercase_string = my_string.upper()\n",
        "\n",
        "# Printing the uppercase string\n",
        "print(uppercase_string)\n"
      ],
      "metadata": {
        "colab": {
          "base_uri": "https://localhost:8080/"
        },
        "id": "2uvC4xWmPE_A",
        "outputId": "37fc1ef1-bb0d-4d1e-85ce-0584213b2952"
      },
      "execution_count": 9,
      "outputs": [
        {
          "output_type": "stream",
          "name": "stdout",
          "text": [
            "HELLO\n"
          ]
        }
      ]
    },
    {
      "cell_type": "code",
      "source": [
        "#5. Write a code to replace the word \"apple\" with \"orange\" in the string \"I like apple\""
      ],
      "metadata": {
        "id": "WdO1lgjaPM97"
      },
      "execution_count": 12,
      "outputs": []
    },
    {
      "cell_type": "code",
      "source": [
        "# Original string\n",
        "my_string = \"I like apple\"\n",
        "\n",
        "# Replacing \"apple\" with \"orange\"\n",
        "modified_string = my_string.replace(\"apple\", \"orange\")\n",
        "\n",
        "# Printing the modified string\n",
        "print(modified_string)\n"
      ],
      "metadata": {
        "colab": {
          "base_uri": "https://localhost:8080/"
        },
        "id": "a08jQ7uyPWMw",
        "outputId": "ed083078-fb72-4b52-d6b3-f370aaf35080"
      },
      "execution_count": 10,
      "outputs": [
        {
          "output_type": "stream",
          "name": "stdout",
          "text": [
            "I like orange\n"
          ]
        }
      ]
    },
    {
      "cell_type": "code",
      "source": [
        "# 6. Write a code to create a list with numbers 1 to 5 and print it\n",
        "\n",
        "# Creating a list with numbers 1 to 5\n",
        "my_list = [1, 2, 3, 4, 5]\n",
        "\n",
        "# Printing the list\n",
        "print(my_list)\n"
      ],
      "metadata": {
        "colab": {
          "base_uri": "https://localhost:8080/"
        },
        "id": "uGjptOH7PaGE",
        "outputId": "3dca1fb0-585c-4a54-9fa8-90fb04b8a7ea"
      },
      "execution_count": 11,
      "outputs": [
        {
          "output_type": "stream",
          "name": "stdout",
          "text": [
            "[1, 2, 3, 4, 5]\n"
          ]
        }
      ]
    },
    {
      "cell_type": "code",
      "source": [
        "# 7. Write a code to append the number 10 to the list [1, 2, 3, 4]\n",
        "\n",
        "# Original list\n",
        "my_list = [1, 2, 3, 4]\n",
        "\n",
        "# Appending the number 10\n",
        "my_list.append(10)\n",
        "\n",
        "# Printing the modified list\n",
        "print(my_list)\n"
      ],
      "metadata": {
        "colab": {
          "base_uri": "https://localhost:8080/"
        },
        "id": "fEKoAKtCPoEG",
        "outputId": "ca17ee12-75e0-450f-9ecc-031cd98bf434"
      },
      "execution_count": 13,
      "outputs": [
        {
          "output_type": "stream",
          "name": "stdout",
          "text": [
            "[1, 2, 3, 4, 10]\n"
          ]
        }
      ]
    },
    {
      "cell_type": "code",
      "source": [
        "# 8. Write a code to remove the number 3 from the list [1, 2, 3, 4, 5]\n",
        "\n",
        "# Original list\n",
        "my_list = [1, 2, 3, 4, 5]\n",
        "\n",
        "# Removing the number 3\n",
        "my_list.remove(3)\n",
        "\n",
        "# Printing the modified list\n",
        "print(my_list)\n"
      ],
      "metadata": {
        "colab": {
          "base_uri": "https://localhost:8080/"
        },
        "id": "NMOGgxBLP6rS",
        "outputId": "1336bd74-a84c-4406-ddbf-bb6936831200"
      },
      "execution_count": 17,
      "outputs": [
        {
          "output_type": "stream",
          "name": "stdout",
          "text": [
            "[1, 2, 4, 5]\n"
          ]
        }
      ]
    },
    {
      "cell_type": "code",
      "source": [
        "# 9. Write a code to access the second element in the list ['a', 'b', 'c', 'd']\n",
        "\n",
        "# List\n",
        "my_list = ['a', 'b', 'c', 'd']\n",
        "\n",
        "# Accessing the second element\n",
        "second_element = my_list[1]\n",
        "\n",
        "# Printing the second element\n",
        "print(second_element)\n"
      ],
      "metadata": {
        "colab": {
          "base_uri": "https://localhost:8080/"
        },
        "id": "LVhJvt90QI0o",
        "outputId": "39c61ea1-81aa-4b81-c107-b1ebb623f07c"
      },
      "execution_count": 15,
      "outputs": [
        {
          "output_type": "stream",
          "name": "stdout",
          "text": [
            "b\n"
          ]
        }
      ]
    },
    {
      "cell_type": "code",
      "source": [
        "# 10. Write a code to reverse the list [10, 20, 30, 40, 50]\n",
        "\n",
        "# Original list\n",
        "my_list = [10, 20, 30, 40, 50]\n",
        "\n",
        "# Reversing the list\n",
        "reversed_list = my_list[::-1]\n",
        "\n",
        "# Printing the reversed list\n",
        "print(reversed_list)\n"
      ],
      "metadata": {
        "colab": {
          "base_uri": "https://localhost:8080/"
        },
        "id": "MCG3hIthQYRM",
        "outputId": "caa10e16-8888-4cc2-843c-cf6a7cda48aa"
      },
      "execution_count": 16,
      "outputs": [
        {
          "output_type": "stream",
          "name": "stdout",
          "text": [
            "[50, 40, 30, 20, 10]\n"
          ]
        }
      ]
    },
    {
      "cell_type": "code",
      "source": [
        "# 11.  Write a code to create a tuple with the elements 100, 200, 300 and print it\n",
        "\n",
        "# Creating a tuple\n",
        "my_tuple = (100, 200, 300)\n",
        "\n",
        "# Printing the tuple\n",
        "print(my_tuple)\n"
      ],
      "metadata": {
        "colab": {
          "base_uri": "https://localhost:8080/"
        },
        "id": "ogXBJYx9YHxN",
        "outputId": "94dd5765-4333-4684-8e5a-0b2fae2b86f9"
      },
      "execution_count": 18,
      "outputs": [
        {
          "output_type": "stream",
          "name": "stdout",
          "text": [
            "(100, 200, 300)\n"
          ]
        }
      ]
    },
    {
      "cell_type": "code",
      "source": [
        "#12.  Write a code to access the second-to-last element of the tuple ('red', 'green', 'blue', 'yellow')\n",
        "\n",
        "# Tuple\n",
        "my_tuple = ('red', 'green', 'blue', 'yellow')\n",
        "\n",
        "# Accessing the second-to-last element\n",
        "second_to_last = my_tuple[-2]\n",
        "\n",
        "# Printing the second-to-last element\n",
        "print(second_to_last)\n"
      ],
      "metadata": {
        "colab": {
          "base_uri": "https://localhost:8080/"
        },
        "id": "vluWLP4sYb-S",
        "outputId": "4f5ecabe-3b7e-4c70-a163-dbe60cd49604"
      },
      "execution_count": 19,
      "outputs": [
        {
          "output_type": "stream",
          "name": "stdout",
          "text": [
            "blue\n"
          ]
        }
      ]
    },
    {
      "cell_type": "code",
      "source": [
        "# 13.  Write a code to find the minimum number in the tuple (10, 20, 5, 15)\n",
        "\n",
        "# Tuple\n",
        "my_tuple = (10, 20, 5, 15)\n",
        "\n",
        "# Finding the minimum number in the tuple\n",
        "min_value = min(my_tuple)\n",
        "\n",
        "# Printing the minimum value\n",
        "print(min_value)\n"
      ],
      "metadata": {
        "colab": {
          "base_uri": "https://localhost:8080/"
        },
        "id": "E71gzNDsYlOG",
        "outputId": "9814edc5-c03b-4cc4-adc9-0712741f3069"
      },
      "execution_count": 20,
      "outputs": [
        {
          "output_type": "stream",
          "name": "stdout",
          "text": [
            "5\n"
          ]
        }
      ]
    },
    {
      "cell_type": "code",
      "source": [
        "#14.  Write a code to find the index of the element \"cat\" in the tuple ('dog', 'cat', 'rabbit')\n",
        "\n",
        "# Tuple\n",
        "my_tuple = ('dog', 'cat', 'rabbit')\n",
        "\n",
        "# Finding the index of the element \"cat\"\n",
        "index_of_cat = my_tuple.index('cat')\n",
        "\n",
        "# Printing the index\n",
        "print(index_of_cat)\n"
      ],
      "metadata": {
        "colab": {
          "base_uri": "https://localhost:8080/"
        },
        "id": "eA8sNc9yYvfI",
        "outputId": "1c8ee92d-54a2-4b26-9885-fe1e5c9a6085"
      },
      "execution_count": 24,
      "outputs": [
        {
          "output_type": "stream",
          "name": "stdout",
          "text": [
            "1\n"
          ]
        }
      ]
    },
    {
      "cell_type": "code",
      "source": [
        "#15.  Write a code to create a tuple containing three different fruits and check if \"kiwi\" is in it\n",
        "\n",
        "# Tuple containing three fruits\n",
        "fruits_tuple = ('apple', 'banana', 'orange')\n",
        "\n",
        "# Checking if \"kiwi\" is in the tuple\n",
        "is_kiwi_in_tuple = 'kiwi' in fruits_tuple\n",
        "\n",
        "# Printing the result\n",
        "print(is_kiwi_in_tuple)\n"
      ],
      "metadata": {
        "colab": {
          "base_uri": "https://localhost:8080/"
        },
        "id": "nRsyTi_nZJbU",
        "outputId": "21719368-0271-43e5-f387-d9ec3f0699d0"
      },
      "execution_count": 25,
      "outputs": [
        {
          "output_type": "stream",
          "name": "stdout",
          "text": [
            "False\n"
          ]
        }
      ]
    },
    {
      "cell_type": "code",
      "source": [
        "#16. Write a code to create a set with the elements 'a', 'b', 'c' and print it\n",
        "\n",
        "# Creating a set with the elements 'a', 'b', 'c'\n",
        "my_set = {'a', 'b', 'c'}\n",
        "\n",
        "# Printing the set\n",
        "print(my_set)\n"
      ],
      "metadata": {
        "colab": {
          "base_uri": "https://localhost:8080/"
        },
        "id": "MbLa2vgwZRiL",
        "outputId": "2106956f-f5d4-438b-9314-37c59090f5b6"
      },
      "execution_count": 26,
      "outputs": [
        {
          "output_type": "stream",
          "name": "stdout",
          "text": [
            "{'a', 'c', 'b'}\n"
          ]
        }
      ]
    },
    {
      "cell_type": "code",
      "source": [
        "#17.  Write a code to clear all elements from the set {1, 2, 3, 4, 5}\n",
        "\n",
        "# Set with elements\n",
        "my_set = {1, 2, 3, 4, 5}\n",
        "\n",
        "# Clearing all elements from the set\n",
        "my_set.clear()\n",
        "\n",
        "# Printing the cleared set\n",
        "print(my_set)\n"
      ],
      "metadata": {
        "colab": {
          "base_uri": "https://localhost:8080/"
        },
        "id": "FwkSSopVZbLs",
        "outputId": "11a4c06f-4759-42d7-f7d9-7b757ac8bc34"
      },
      "execution_count": 27,
      "outputs": [
        {
          "output_type": "stream",
          "name": "stdout",
          "text": [
            "set()\n"
          ]
        }
      ]
    },
    {
      "cell_type": "code",
      "source": [
        "#18.  Write a code to remove the element 4 from the set {1, 2, 3, 4}\n",
        "\n",
        "# Set with elements\n",
        "my_set = {1, 2, 3, 4}\n",
        "\n",
        "# Removing the element 4\n",
        "my_set.remove(4)\n",
        "\n",
        "# Printing the updated set\n",
        "print(my_set)\n"
      ],
      "metadata": {
        "colab": {
          "base_uri": "https://localhost:8080/"
        },
        "id": "qm2gaKMPZmlm",
        "outputId": "a6a58800-fbab-476a-c5d6-a204a28be3b4"
      },
      "execution_count": 28,
      "outputs": [
        {
          "output_type": "stream",
          "name": "stdout",
          "text": [
            "{1, 2, 3}\n"
          ]
        }
      ]
    },
    {
      "cell_type": "code",
      "source": [
        "#19.  Write a code to find the union of two sets {1, 2, 3} and {3, 4, 5}\n",
        "\n",
        "# Two sets\n",
        "set1 = {1, 2, 3}\n",
        "set2 = {3, 4, 5}\n",
        "\n",
        "# Finding the union of the two sets\n",
        "union_set = set1 | set2  # or use set1.union(set2)\n",
        "\n",
        "# Printing the union set\n",
        "print(union_set)\n"
      ],
      "metadata": {
        "colab": {
          "base_uri": "https://localhost:8080/"
        },
        "id": "3Tdi2xhTZtj8",
        "outputId": "92a8c9ed-b744-4b6d-e06c-84e0dd7b5461"
      },
      "execution_count": 29,
      "outputs": [
        {
          "output_type": "stream",
          "name": "stdout",
          "text": [
            "{1, 2, 3, 4, 5}\n"
          ]
        }
      ]
    },
    {
      "cell_type": "code",
      "source": [
        "#20  Write a code to find the intersection of two sets {1, 2, 3} and {2, 3, 4}\n",
        "\n",
        "# Two sets\n",
        "set1 = {1, 2, 3}\n",
        "set2 = {2, 3, 4}\n",
        "\n",
        "# Finding the intersection of the two sets\n",
        "intersection_set = set1 & set2  # or use set1.intersection(set2)\n",
        "\n",
        "# Printing the intersection set\n",
        "print(intersection_set)\n"
      ],
      "metadata": {
        "colab": {
          "base_uri": "https://localhost:8080/"
        },
        "id": "5ZNwj_ruZ0qL",
        "outputId": "942d0e7a-cd32-4d40-e954-901c120bb169"
      },
      "execution_count": 30,
      "outputs": [
        {
          "output_type": "stream",
          "name": "stdout",
          "text": [
            "{2, 3}\n"
          ]
        }
      ]
    },
    {
      "cell_type": "code",
      "source": [
        "#21.  Write a code to create a dictionary with the keys \"name\", \"age\", and \"city\", and print it\n",
        "\n",
        "# Creating the dictionary\n",
        "my_dict = {\n",
        "    \"name\": \"bhavesh\",\n",
        "    \"age\": 21,\n",
        "    \"city\": \"kalyan\"\n",
        "}\n",
        "\n",
        "# Printing the dictionary\n",
        "print(my_dict)\n"
      ],
      "metadata": {
        "colab": {
          "base_uri": "https://localhost:8080/"
        },
        "id": "s4zRWGdcZ-95",
        "outputId": "68345d85-a792-4a43-de39-caa60ec41475"
      },
      "execution_count": 32,
      "outputs": [
        {
          "output_type": "stream",
          "name": "stdout",
          "text": [
            "{'name': 'bhavesh', 'age': 21, 'city': 'kalyan'}\n"
          ]
        }
      ]
    },
    {
      "cell_type": "code",
      "source": [
        "#22. Write a code to add a new key-value pair \"country\": \"USA\" to the dictionary {'name': 'John', 'age': 25}\n",
        "\n",
        "# Original dictionary\n",
        "my_dict = {'name': 'John', 'age': 25}\n",
        "\n",
        "# Adding a new key-value pair\n",
        "my_dict[\"country\"] = \"USA\"\n",
        "\n",
        "# Printing the updated dictionary\n",
        "print(my_dict)\n"
      ],
      "metadata": {
        "colab": {
          "base_uri": "https://localhost:8080/"
        },
        "id": "hLHK2YuQaPTy",
        "outputId": "1ff6a93d-e621-4467-f0a4-af386c92a217"
      },
      "execution_count": 33,
      "outputs": [
        {
          "output_type": "stream",
          "name": "stdout",
          "text": [
            "{'name': 'John', 'age': 25, 'country': 'USA'}\n"
          ]
        }
      ]
    },
    {
      "cell_type": "code",
      "source": [
        "#23. Write a code to access the value associated with the key \"name\" in the dictionary {'name': 'Alice', 'age': 30}\n",
        "\n",
        "# Dictionary\n",
        "my_dict = {'name': 'Alice', 'age': 30}\n",
        "\n",
        "# Accessing the value associated with the key \"name\"\n",
        "name_value = my_dict[\"name\"]\n",
        "\n",
        "# Printing the value\n",
        "print(name_value)\n"
      ],
      "metadata": {
        "colab": {
          "base_uri": "https://localhost:8080/"
        },
        "id": "0mDa17dyah5e",
        "outputId": "44770a43-2fe9-448c-e7b6-c7c16225f382"
      },
      "execution_count": 34,
      "outputs": [
        {
          "output_type": "stream",
          "name": "stdout",
          "text": [
            "Alice\n"
          ]
        }
      ]
    },
    {
      "cell_type": "code",
      "source": [
        "#24.  Write a code to remove the key \"age\" from the dictionary {'name': 'Bob', 'age': 22, 'city': 'New York'}.\n",
        "\n",
        "# Dictionary\n",
        "my_dict = {'name': 'Bob', 'age': 22, 'city': 'New York'}\n",
        "\n",
        "# Removing the key \"age\"\n",
        "del my_dict[\"age\"]\n",
        "\n",
        "# Printing the updated dictionary\n",
        "print(my_dict)\n"
      ],
      "metadata": {
        "colab": {
          "base_uri": "https://localhost:8080/"
        },
        "id": "2BnqwlRaavAQ",
        "outputId": "4683f4a6-450c-4e49-c5d9-3976ede06fa3"
      },
      "execution_count": 35,
      "outputs": [
        {
          "output_type": "stream",
          "name": "stdout",
          "text": [
            "{'name': 'Bob', 'city': 'New York'}\n"
          ]
        }
      ]
    },
    {
      "cell_type": "code",
      "source": [
        "#25.  Write a code to check if the key \"city\" exists in the dictionary {'name': 'Alice', 'city': 'Paris'}\n",
        "\n",
        "# Dictionary\n",
        "my_dict = {'name': 'Alice', 'city': 'Paris'}\n",
        "\n",
        "# Checking if the key \"city\" exists\n",
        "key_exists = \"city\" in my_dict\n",
        "\n",
        "# Printing the result\n",
        "print(key_exists)\n"
      ],
      "metadata": {
        "colab": {
          "base_uri": "https://localhost:8080/"
        },
        "id": "e_La_sVsa45L",
        "outputId": "8b463c6f-f3bc-4801-cce9-b5a0b3e5a3ab"
      },
      "execution_count": 36,
      "outputs": [
        {
          "output_type": "stream",
          "name": "stdout",
          "text": [
            "True\n"
          ]
        }
      ]
    },
    {
      "cell_type": "code",
      "source": [
        "#26. Write a code to create a list, a tuple, and a dictionary, and print them all\n",
        "\n",
        "# Creating a list\n",
        "my_list = [1, 2, 3, 4, 5]\n",
        "\n",
        "# Creating a tuple\n",
        "my_tuple = ('apple', 'banana', 'cherry')\n",
        "\n",
        "# Creating a dictionary\n",
        "my_dict = {'name': 'John', 'age': 30, 'city': 'New York'}\n",
        "\n",
        "# Printing the list, tuple, and dictionary\n",
        "print(\"List:\", my_list)\n",
        "print(\"Tuple:\", my_tuple)\n",
        "print(\"Dictionary:\", my_dict)\n"
      ],
      "metadata": {
        "colab": {
          "base_uri": "https://localhost:8080/"
        },
        "id": "KPUWRoE1bFkD",
        "outputId": "5a3033e4-a65e-40ac-8226-d1b96c0f2bea"
      },
      "execution_count": 37,
      "outputs": [
        {
          "output_type": "stream",
          "name": "stdout",
          "text": [
            "List: [1, 2, 3, 4, 5]\n",
            "Tuple: ('apple', 'banana', 'cherry')\n",
            "Dictionary: {'name': 'John', 'age': 30, 'city': 'New York'}\n"
          ]
        }
      ]
    },
    {
      "cell_type": "code",
      "source": [
        "#27.  Write a code to create a list of 5 random numbers between 1 and 100, sort it in ascending order, and print the result.(replaced)\n",
        "\n",
        "import random\n",
        "\n",
        "# Creating a list of 5 random numbers between 1 and 100\n",
        "random_numbers = [random.randint(1, 100) for _ in range(5)]\n",
        "\n",
        "# Sorting the list in ascending order\n",
        "random_numbers.sort()\n",
        "\n",
        "# Printing the sorted list\n",
        "print(\"Sorted list:\", random_numbers)\n",
        "\n"
      ],
      "metadata": {
        "colab": {
          "base_uri": "https://localhost:8080/"
        },
        "id": "Svx3gzy1bPDv",
        "outputId": "6df296cb-0aad-450d-ee43-a2c4beed21f0"
      },
      "execution_count": 40,
      "outputs": [
        {
          "output_type": "stream",
          "name": "stdout",
          "text": [
            "Sorted list: [4, 41, 44, 60, 89]\n"
          ]
        }
      ]
    },
    {
      "cell_type": "code",
      "source": [
        "#28.  Write a code to create a list with strings and print the element at the third index\n",
        "\n",
        "# Creating a list with strings\n",
        "my_list = [\"apple\", \"banana\", \"cherry\", \"date\", \"elderberry\"]\n",
        "\n",
        "# Printing the element at the third index\n",
        "print(my_list[3])\n"
      ],
      "metadata": {
        "colab": {
          "base_uri": "https://localhost:8080/"
        },
        "id": "_XG9opuIbvbB",
        "outputId": "94de5c5b-359e-48af-8ca1-7f856e97b83d"
      },
      "execution_count": 41,
      "outputs": [
        {
          "output_type": "stream",
          "name": "stdout",
          "text": [
            "date\n"
          ]
        }
      ]
    },
    {
      "cell_type": "code",
      "source": [
        "#29. Write a code to combine two dictionaries into one and print the result\n",
        "\n",
        "# Creating two dictionaries\n",
        "dict1 = {'name': 'bhavesh', 'age': 21}\n",
        "dict2 = {'city': 'kalyan', 'job': 'student'}\n",
        "\n",
        "# Combining the two dictionaries\n",
        "combined_dict = {**dict1, **dict2}\n",
        "\n",
        "# Printing the combined dictionary\n",
        "print(combined_dict)\n"
      ],
      "metadata": {
        "colab": {
          "base_uri": "https://localhost:8080/"
        },
        "id": "0Pb_SJD-b2K7",
        "outputId": "53b53cd0-8b4d-44fd-e1d2-c39cdff22faa"
      },
      "execution_count": 43,
      "outputs": [
        {
          "output_type": "stream",
          "name": "stdout",
          "text": [
            "{'name': 'bhavesh', 'age': 21, 'city': 'kalyan', 'job': 'student'}\n"
          ]
        }
      ]
    },
    {
      "cell_type": "code",
      "source": [
        "#30 . Write a code to convert a list of strings into a set.\n",
        "\n",
        "# Creating a list of strings\n",
        "my_list = [\"dal\", \"chawal\", \"roti\", \"bhakri\", \"potato\"]\n",
        "\n",
        "# Converting the list into a set\n",
        "my_set = set(my_list)\n",
        "\n",
        "# Printing the set\n",
        "print(my_set)\n"
      ],
      "metadata": {
        "colab": {
          "base_uri": "https://localhost:8080/"
        },
        "id": "35GD0KFkb97N",
        "outputId": "41be873d-589d-4ff5-f8c0-90d096aa0c85"
      },
      "execution_count": 44,
      "outputs": [
        {
          "output_type": "stream",
          "name": "stdout",
          "text": [
            "{'chawal', 'bhakri', 'dal', 'potato', 'roti'}\n"
          ]
        }
      ]
    }
  ]
}